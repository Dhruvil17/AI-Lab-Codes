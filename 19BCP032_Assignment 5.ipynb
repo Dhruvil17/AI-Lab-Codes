{
 "cells": [
  {
   "cell_type": "code",
   "execution_count": 1,
   "id": "3159697b",
   "metadata": {},
   "outputs": [
    {
     "name": "stdout",
     "output_type": "stream",
     "text": [
      "Enter the capacity of jug 1: 8\n",
      "Enter the capacity of jug 2: 5\n"
     ]
    }
   ],
   "source": [
    "jug_1_cap = int(input(\"Enter the capacity of jug 1: \"))\n",
    "jug_2_cap = int(input(\"Enter the capacity of jug 2: \"))"
   ]
  },
  {
   "cell_type": "code",
   "execution_count": 2,
   "id": "f50ce767",
   "metadata": {},
   "outputs": [
    {
     "name": "stdout",
     "output_type": "stream",
     "text": [
      "Enter the amount of water you want to measure: 4\n"
     ]
    }
   ],
   "source": [
    "water_measure = int(input(\"Enter the amount of water you want to measure: \"))"
   ]
  },
  {
   "cell_type": "code",
   "execution_count": 3,
   "id": "b3d33d3c",
   "metadata": {},
   "outputs": [
    {
     "name": "stdout",
     "output_type": "stream",
     "text": [
      "Enter the initial state as (x,y): 0,0\n",
      "Enter the goal state as (x,y): 4,0\n"
     ]
    }
   ],
   "source": [
    "initial_state = input(\"Enter the initial state as (x,y): \")\n",
    "goal_state = input(\"Enter the goal state as (x,y): \")\n",
    "\n",
    "initial_state = tuple(map(int, initial_state.replace(\"(\", \"\").replace(\")\", \"\").split(\",\")))\n",
    "goal_state = tuple(map(int, goal_state.replace(\"(\", \"\").replace(\")\", \"\").split(\",\")))"
   ]
  },
  {
   "cell_type": "code",
   "execution_count": 4,
   "id": "3b5ea00d",
   "metadata": {},
   "outputs": [],
   "source": [
    "visited_states = {}\n",
    "path = []"
   ]
  },
  {
   "cell_type": "code",
   "execution_count": 5,
   "id": "41a253c2",
   "metadata": {},
   "outputs": [],
   "source": [
    "def solve_water_jug_problem(current_state):\n",
    "    \n",
    "    jug_1 = current_state[0]\n",
    "    jug_2 = current_state[1]\n",
    "    \n",
    "    if(jug_1 == goal_state[0] and jug_2 == goal_state[1]):\n",
    "        path.append(current_state)\n",
    "        return True\n",
    "    \n",
    "    if(current_state in visited_states):\n",
    "        return False\n",
    "    \n",
    "    visited_states[current_state] = 1\n",
    "    \n",
    "    #for jug_1\n",
    "    if(jug_1 > 0):\n",
    "        #completely empty jug_1 into jug_2\n",
    "        if(jug_1 + jug_2 <= jug_2_cap):\n",
    "            if(solve_water_jug_problem((0, jug_1+jug_2))):\n",
    "                path.append(current_state)\n",
    "                return True\n",
    "            \n",
    "        elif(solve_water_jug_problem((jug_1-(jug_2_cap-jug_2), jug_2_cap))):\n",
    "            #partially empty jug_1 into jug_2\n",
    "            path.append(current_state)\n",
    "            return True\n",
    "        \n",
    "        elif(solve_water_jug_problem((0, jug_2))):\n",
    "            #empty jug_1 on ground\n",
    "            path.append(current_state)\n",
    "            return True\n",
    "    else:\n",
    "        #Fill empty jug_1 completely\n",
    "        if(solve_water_jug_problem((jug_1_cap, jug_2))):\n",
    "            path.append(current_state)\n",
    "            return True\n",
    "    \n",
    "    #for jug_2\n",
    "    if(jug_2 > 0):\n",
    "        #completely empty jug_2 into jug_1\n",
    "        if(jug_1 + jug_2 <= jug_1_cap):\n",
    "            if(solve_water_jug_problem((jug_1+jug_2, 0))):\n",
    "                path.append(current_state)\n",
    "                return True\n",
    "            \n",
    "        elif(solve_water_jug_problem((jug_1_cap, jug_2-(jug_1_cap-jug_1)))):\n",
    "            #partially empty jug_2 into jug_1\n",
    "            path.append(current_state)\n",
    "            return True\n",
    "        \n",
    "        elif(solve_water_jug_problem((jug_1, 0))):\n",
    "            #empty jug_2 on ground\n",
    "            path.append(current_state)\n",
    "            return True\n",
    "    else:\n",
    "        #Fill empty jug_2 completely\n",
    "        if(solve_water_jug_problem((jug_1, jug_2_cap))):\n",
    "            path.append(current_state)\n",
    "            return True\n",
    "    \n",
    "    return False"
   ]
  },
  {
   "cell_type": "code",
   "execution_count": 6,
   "id": "21a40b10",
   "metadata": {},
   "outputs": [
    {
     "name": "stdout",
     "output_type": "stream",
     "text": [
      "The solution to the given Water Jug problem is...\n",
      "\n",
      "\n",
      "(0, 0)\n",
      "(8, 0)\n",
      "(3, 5)\n",
      "(0, 5)\n",
      "(5, 0)\n",
      "(5, 5)\n",
      "(8, 2)\n",
      "(0, 2)\n",
      "(2, 0)\n",
      "(2, 5)\n",
      "(7, 0)\n",
      "(7, 5)\n",
      "(8, 4)\n",
      "(0, 4)\n",
      "(4, 0)\n"
     ]
    }
   ],
   "source": [
    "print(\"The solution to the given Water Jug problem is...\\n\\n\")\n",
    "solve_water_jug_problem(initial_state)\n",
    "\n",
    "path.reverse()\n",
    "for nodes in path:\n",
    "    print(nodes)"
   ]
  }
 ],
 "metadata": {
  "kernelspec": {
   "display_name": "Python 3 (ipykernel)",
   "language": "python",
   "name": "python3"
  },
  "language_info": {
   "codemirror_mode": {
    "name": "ipython",
    "version": 3
   },
   "file_extension": ".py",
   "mimetype": "text/x-python",
   "name": "python",
   "nbconvert_exporter": "python",
   "pygments_lexer": "ipython3",
   "version": "3.9.7"
  }
 },
 "nbformat": 4,
 "nbformat_minor": 5
}
