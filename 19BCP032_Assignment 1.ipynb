{
 "cells": [
  {
   "cell_type": "markdown",
   "metadata": {},
   "source": [
    "# Assignment 1"
   ]
  },
  {
   "cell_type": "markdown",
   "metadata": {},
   "source": [
    "### 1) Write a module AddNum which have two functions Add(a,b) and Sub(a,b) which perform the addition and subtraction of two numbers respectively. Import AddNum module into your Jupyter notebook or in other IDE and call these functions."
   ]
  },
  {
   "cell_type": "code",
   "execution_count": 1,
   "metadata": {},
   "outputs": [],
   "source": [
    "import sys"
   ]
  },
  {
   "cell_type": "code",
   "execution_count": 2,
   "metadata": {},
   "outputs": [],
   "source": [
    "sys.path += [\"C:\\\\Users\\\\Dhruvil\\\\Desktop\\\\Dhruvil PDEU\\\\PDEU All Sem\\\\PDEU 6th Sem\\\\Artificial Intelligence\\\\Lab\\\\Assignments\\\\Assignment 1\"]"
   ]
  },
  {
   "cell_type": "code",
   "execution_count": 3,
   "metadata": {},
   "outputs": [
    {
     "name": "stdout",
     "output_type": "stream",
     "text": [
      "Addition of 5 and 8 is : 13\n",
      "Subtraction of 9 and 5 is : 4\n"
     ]
    }
   ],
   "source": [
    "import AddNum\n",
    "\n",
    "sumOfNumbers = AddNum.Add(5,8)\n",
    "subOfNumbers = AddNum.Sub(9,5)\n",
    "\n",
    "print(\"Addition of 5 and 8 is :\", sumOfNumbers)\n",
    "print(\"Subtraction of 9 and 5 is :\", subOfNumbers)"
   ]
  },
  {
   "cell_type": "markdown",
   "metadata": {},
   "source": [
    "### 2)\tWAP to count the number of files in a single directory."
   ]
  },
  {
   "cell_type": "code",
   "execution_count": 4,
   "metadata": {},
   "outputs": [],
   "source": [
    "import os"
   ]
  },
  {
   "cell_type": "code",
   "execution_count": 5,
   "metadata": {},
   "outputs": [
    {
     "name": "stdout",
     "output_type": "stream",
     "text": [
      "Total no of files/folders in this Directory are : 34\n"
     ]
    }
   ],
   "source": [
    "totalFiles = os.listdir(\"C:\\\\Users\\\\Dhruvil\\\\Desktop\\\\Dhruvil\\\\Web Development\\\\Web Development Projects\")\n",
    "print(\"Total no of files/folders in this Directory are :\", len(totalFiles))"
   ]
  },
  {
   "cell_type": "markdown",
   "metadata": {},
   "source": [
    "### 3)\tCreate an 8x8 matrix and fill it with a checkerboard pattern."
   ]
  },
  {
   "cell_type": "code",
   "execution_count": 6,
   "metadata": {},
   "outputs": [],
   "source": [
    "import numpy as np"
   ]
  },
  {
   "cell_type": "code",
   "execution_count": 7,
   "metadata": {},
   "outputs": [],
   "source": [
    "arr = np.zeros([8, 8], dtype = int)"
   ]
  },
  {
   "cell_type": "code",
   "execution_count": 8,
   "metadata": {},
   "outputs": [
    {
     "name": "stdout",
     "output_type": "stream",
     "text": [
      "[[0 0 0 0 0 0 0 0]\n",
      " [1 0 1 0 1 0 1 0]\n",
      " [0 0 0 0 0 0 0 0]\n",
      " [1 0 1 0 1 0 1 0]\n",
      " [0 0 0 0 0 0 0 0]\n",
      " [1 0 1 0 1 0 1 0]\n",
      " [0 0 0 0 0 0 0 0]\n",
      " [1 0 1 0 1 0 1 0]]\n"
     ]
    }
   ],
   "source": [
    "arr[1::2, ::2] = 1\n",
    "print(arr)"
   ]
  },
  {
   "cell_type": "code",
   "execution_count": 9,
   "metadata": {},
   "outputs": [
    {
     "name": "stdout",
     "output_type": "stream",
     "text": [
      "Checkboard pattern is created below using Slicing Operation\n",
      "\n",
      "[[0 1 0 1 0 1 0 1]\n",
      " [1 0 1 0 1 0 1 0]\n",
      " [0 1 0 1 0 1 0 1]\n",
      " [1 0 1 0 1 0 1 0]\n",
      " [0 1 0 1 0 1 0 1]\n",
      " [1 0 1 0 1 0 1 0]\n",
      " [0 1 0 1 0 1 0 1]\n",
      " [1 0 1 0 1 0 1 0]]\n"
     ]
    }
   ],
   "source": [
    "arr[::2, 1::2] = 1\n",
    "print(\"Checkboard pattern is created below using Slicing Operation\\n\")\n",
    "print(arr)"
   ]
  },
  {
   "cell_type": "markdown",
   "metadata": {},
   "source": [
    "### 4)\tWAP to find common values between two arrays"
   ]
  },
  {
   "cell_type": "code",
   "execution_count": 10,
   "metadata": {},
   "outputs": [
    {
     "name": "stdout",
     "output_type": "stream",
     "text": [
      "Common Elements are : [2, 4, 6, 16]\n"
     ]
    }
   ],
   "source": [
    "def findCommonValues(arr1, arr2):\n",
    "    if arr1 == [] or arr2 == []:\n",
    "        return []\n",
    "    elif arr1[0] < arr2[0]:\n",
    "        return findCommonValues(arr1[1:], arr2)\n",
    "    elif arr1[0] > arr2[0]:\n",
    "        return findCommonValues(arr1, arr2[1:])\n",
    "    else:\n",
    "        return [arr1[0]] + findCommonValues(arr1[1:], arr2[1:])\n",
    "\n",
    "arr1 = [4, 6, 2, 7, 9, 1, 16, 10, 30]\n",
    "arr2 = [3, 5, 4, 6, 12, 8, 15, 2, 16]\n",
    "\n",
    "arr1.sort()\n",
    "arr2.sort()\n",
    "    \n",
    "print(\"Common Elements are :\", findCommonValues(arr1, arr2))"
   ]
  },
  {
   "attachments": {},
   "cell_type": "markdown",
   "metadata": {},
   "source": [
    "### 5)\tWAP to add a border (filled with 0's) around an existing array.  "
   ]
  },
  {
   "cell_type": "code",
   "execution_count": 11,
   "metadata": {},
   "outputs": [],
   "source": [
    "arr = np.zeros([5,5])"
   ]
  },
  {
   "cell_type": "code",
   "execution_count": 12,
   "metadata": {},
   "outputs": [
    {
     "name": "stdout",
     "output_type": "stream",
     "text": [
      "[[0. 0. 0. 0. 0.]\n",
      " [0. 1. 1. 1. 0.]\n",
      " [0. 1. 1. 1. 0.]\n",
      " [0. 1. 1. 1. 0.]\n",
      " [0. 0. 0. 0. 0.]]\n"
     ]
    }
   ],
   "source": [
    "arr[1:-1, 1:-1] = 1\n",
    "print(arr)"
   ]
  }
 ],
 "metadata": {
  "kernelspec": {
   "display_name": "Python 3 (ipykernel)",
   "language": "python",
   "name": "python3"
  },
  "language_info": {
   "codemirror_mode": {
    "name": "ipython",
    "version": 3
   },
   "file_extension": ".py",
   "mimetype": "text/x-python",
   "name": "python",
   "nbconvert_exporter": "python",
   "pygments_lexer": "ipython3",
   "version": "3.8.3"
  }
 },
 "nbformat": 4,
 "nbformat_minor": 4
}
